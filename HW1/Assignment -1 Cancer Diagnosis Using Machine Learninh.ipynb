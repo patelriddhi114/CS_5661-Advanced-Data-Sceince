{
 "cells": [
  {
   "cell_type": "markdown",
   "metadata": {},
   "source": [
    "# Assignment : 1\n",
    "\n",
    "# Cancer Diagnosis Using Machine \n",
    "\n",
    "Learning Write and submit your python codes in “Jupyter Notebook” to perform the following tasks. Make sure to provide proper descriptions as MarkDown for each section of your code.  \n",
    " \n",
    "In this homework, we work with a real dataset from UCI Datase"
   ]
  },
  {
   "cell_type": "markdown",
   "metadata": {},
   "source": [
    "a- Read the dataset file “Cancer.csv” (you should download it from CSNS), and store it in a Pandas DataFrame. Check out the dataset. The dataset includes 9 numerical features. The last column is the binary label (“1” means it is a malignant cancer, “0” means it is a benign tumor). You will use all 9 features in this homework. "
   ]
  },
  {
   "cell_type": "code",
   "execution_count": 126,
   "metadata": {},
   "outputs": [],
   "source": [
    "from sklearn.metrics import accuracy_score\n",
    "from sklearn import metrics\n",
    "import pandas as pd\n",
    "import numpy as np\n",
    "import matplotlib.pyplot as plt"
   ]
  },
  {
   "cell_type": "code",
   "execution_count": 127,
   "metadata": {},
   "outputs": [
    {
     "data": {
      "text/html": [
       "<div>\n",
       "<style scoped>\n",
       "    .dataframe tbody tr th:only-of-type {\n",
       "        vertical-align: middle;\n",
       "    }\n",
       "\n",
       "    .dataframe tbody tr th {\n",
       "        vertical-align: top;\n",
       "    }\n",
       "\n",
       "    .dataframe thead th {\n",
       "        text-align: right;\n",
       "    }\n",
       "</style>\n",
       "<table border=\"1\" class=\"dataframe\">\n",
       "  <thead>\n",
       "    <tr style=\"text-align: right;\">\n",
       "      <th></th>\n",
       "      <th>Clump_Thickness</th>\n",
       "      <th>Uniformity_of_Cell_Size</th>\n",
       "      <th>Uniformity_of_Cell_Shape</th>\n",
       "      <th>Marginal_Adhesion</th>\n",
       "      <th>Single_Epithelial_Cell_Size</th>\n",
       "      <th>Bare_Nuclei</th>\n",
       "      <th>Bland_Chromatin</th>\n",
       "      <th>Normal_Nucleoli</th>\n",
       "      <th>Mitoses</th>\n",
       "      <th>Malignant_Cancer</th>\n",
       "    </tr>\n",
       "  </thead>\n",
       "  <tbody>\n",
       "    <tr>\n",
       "      <th>0</th>\n",
       "      <td>5</td>\n",
       "      <td>1</td>\n",
       "      <td>1</td>\n",
       "      <td>1</td>\n",
       "      <td>2</td>\n",
       "      <td>1</td>\n",
       "      <td>3</td>\n",
       "      <td>1</td>\n",
       "      <td>1</td>\n",
       "      <td>0</td>\n",
       "    </tr>\n",
       "    <tr>\n",
       "      <th>1</th>\n",
       "      <td>5</td>\n",
       "      <td>4</td>\n",
       "      <td>4</td>\n",
       "      <td>5</td>\n",
       "      <td>7</td>\n",
       "      <td>10</td>\n",
       "      <td>3</td>\n",
       "      <td>2</td>\n",
       "      <td>1</td>\n",
       "      <td>0</td>\n",
       "    </tr>\n",
       "    <tr>\n",
       "      <th>2</th>\n",
       "      <td>3</td>\n",
       "      <td>1</td>\n",
       "      <td>1</td>\n",
       "      <td>1</td>\n",
       "      <td>2</td>\n",
       "      <td>2</td>\n",
       "      <td>3</td>\n",
       "      <td>1</td>\n",
       "      <td>1</td>\n",
       "      <td>0</td>\n",
       "    </tr>\n",
       "    <tr>\n",
       "      <th>3</th>\n",
       "      <td>6</td>\n",
       "      <td>8</td>\n",
       "      <td>8</td>\n",
       "      <td>1</td>\n",
       "      <td>3</td>\n",
       "      <td>4</td>\n",
       "      <td>3</td>\n",
       "      <td>7</td>\n",
       "      <td>1</td>\n",
       "      <td>0</td>\n",
       "    </tr>\n",
       "    <tr>\n",
       "      <th>4</th>\n",
       "      <td>4</td>\n",
       "      <td>1</td>\n",
       "      <td>1</td>\n",
       "      <td>3</td>\n",
       "      <td>2</td>\n",
       "      <td>1</td>\n",
       "      <td>3</td>\n",
       "      <td>1</td>\n",
       "      <td>1</td>\n",
       "      <td>0</td>\n",
       "    </tr>\n",
       "  </tbody>\n",
       "</table>\n",
       "</div>"
      ],
      "text/plain": [
       "   Clump_Thickness  Uniformity_of_Cell_Size  Uniformity_of_Cell_Shape  \\\n",
       "0                5                        1                         1   \n",
       "1                5                        4                         4   \n",
       "2                3                        1                         1   \n",
       "3                6                        8                         8   \n",
       "4                4                        1                         1   \n",
       "\n",
       "   Marginal_Adhesion  Single_Epithelial_Cell_Size  Bare_Nuclei  \\\n",
       "0                  1                            2            1   \n",
       "1                  5                            7           10   \n",
       "2                  1                            2            2   \n",
       "3                  1                            3            4   \n",
       "4                  3                            2            1   \n",
       "\n",
       "   Bland_Chromatin  Normal_Nucleoli  Mitoses  Malignant_Cancer  \n",
       "0                3                1        1                 0  \n",
       "1                3                2        1                 0  \n",
       "2                3                1        1                 0  \n",
       "3                3                7        1                 0  \n",
       "4                3                1        1                 0  "
      ]
     },
     "execution_count": 127,
     "metadata": {},
     "output_type": "execute_result"
    }
   ],
   "source": [
    "df_cancer = pd.read_csv('C:\\RiddhiDocuments\\College\\Python\\CS-5661\\Assignment\\HW1\\HW1\\Cancer.csv')\n",
    "df_cancer.head()"
   ]
  },
  {
   "cell_type": "code",
   "execution_count": 128,
   "metadata": {},
   "outputs": [
    {
     "data": {
      "text/plain": [
       "(150, 10)"
      ]
     },
     "execution_count": 128,
     "metadata": {},
     "output_type": "execute_result"
    }
   ],
   "source": [
    "df_cancer.shape"
   ]
  },
  {
   "cell_type": "markdown",
   "metadata": {},
   "source": [
    "b- Use sklearn functions to split the dataset into testing and training sets with the following parameters: test_size=0.3, random_state=2.  \n",
    " "
   ]
  },
  {
   "cell_type": "code",
   "execution_count": 129,
   "metadata": {},
   "outputs": [
    {
     "data": {
      "text/plain": [
       "['Clump_Thickness',\n",
       " 'Uniformity_of_Cell_Size',\n",
       " 'Uniformity_of_Cell_Shape',\n",
       " 'Marginal_Adhesion',\n",
       " 'Single_Epithelial_Cell_Size',\n",
       " 'Bare_Nuclei',\n",
       " 'Bland_Chromatin',\n",
       " 'Normal_Nucleoli',\n",
       " 'Mitoses',\n",
       " 'Malignant_Cancer']"
      ]
     },
     "execution_count": 129,
     "metadata": {},
     "output_type": "execute_result"
    }
   ],
   "source": [
    "list(df_cancer)"
   ]
  },
  {
   "cell_type": "code",
   "execution_count": 130,
   "metadata": {},
   "outputs": [
    {
     "name": "stdout",
     "output_type": "stream",
     "text": [
      "   Clump_Thickness  Uniformity_of_Cell_Size  Uniformity_of_Cell_Shape  \\\n",
      "0                5                        1                         1   \n",
      "1                5                        4                         4   \n",
      "2                3                        1                         1   \n",
      "3                6                        8                         8   \n",
      "4                4                        1                         1   \n",
      "\n",
      "   Marginal_Adhesion  Single_Epithelial_Cell_Size  Bare_Nuclei  \\\n",
      "0                  1                            2            1   \n",
      "1                  5                            7           10   \n",
      "2                  1                            2            2   \n",
      "3                  1                            3            4   \n",
      "4                  3                            2            1   \n",
      "\n",
      "   Bland_Chromatin  Normal_Nucleoli  Mitoses  \n",
      "0                3                1        1  \n",
      "1                3                2        1  \n",
      "2                3                1        1  \n",
      "3                3                7        1  \n",
      "4                3                1        1  \n",
      "0    0\n",
      "1    0\n",
      "2    0\n",
      "3    0\n",
      "4    0\n",
      "Name: Malignant_Cancer, dtype: int64\n"
     ]
    }
   ],
   "source": [
    "col = ['Clump_Thickness','Uniformity_of_Cell_Size','Uniformity_of_Cell_Shape','Marginal_Adhesion','Single_Epithelial_Cell_Size',\n",
    " 'Bare_Nuclei','Bland_Chromatin','Normal_Nucleoli','Mitoses']\n",
    "\n",
    "X = df_cancer[col]\n",
    "\n",
    "y = df_cancer['Malignant_Cancer']\n",
    "\n",
    "print(X.head())\n",
    "\n",
    "print(y.head())"
   ]
  },
  {
   "cell_type": "code",
   "execution_count": 131,
   "metadata": {},
   "outputs": [],
   "source": [
    "from sklearn.model_selection import train_test_split\n",
    "\n",
    "X_train,X_test,y_train,y_test = train_test_split(X,y,test_size=0.3,random_state=2)"
   ]
  },
  {
   "cell_type": "code",
   "execution_count": 132,
   "metadata": {},
   "outputs": [
    {
     "name": "stdout",
     "output_type": "stream",
     "text": [
      "X_train :  (105, 9)\n",
      "X_test :  (45, 9)\n",
      "y_train :  (105,)\n",
      "y_test :  (45,)\n"
     ]
    }
   ],
   "source": [
    "print(\"X_train : \",X_train.shape)\n",
    "print(\"X_test : \",X_test.shape)\n",
    "print(\"y_train : \",y_train.shape)\n",
    "print(\"y_test : \",y_test.shape)\n"
   ]
  },
  {
   "cell_type": "markdown",
   "metadata": {},
   "source": [
    "c- Use “Decision Tree Classifier” to predict Cancer based on the training/testing datasets that you built in part (h). \n",
    "\n",
    "Then, calculate and report the accuracy and AUC of your classifier. \n",
    "\n",
    "Later in part (g), you will plot the ROC curve as well. Use this command to define your tree:  my_DecisionTree = DecisionTreeClassifier(random_state=2). "
   ]
  },
  {
   "cell_type": "code",
   "execution_count": 133,
   "metadata": {},
   "outputs": [],
   "source": [
    "from sklearn.tree import DecisionTreeClassifier"
   ]
  },
  {
   "cell_type": "code",
   "execution_count": 134,
   "metadata": {},
   "outputs": [],
   "source": [
    "my_Decisiontree = DecisionTreeClassifier(random_state=2)"
   ]
  },
  {
   "cell_type": "code",
   "execution_count": 135,
   "metadata": {},
   "outputs": [
    {
     "data": {
      "text/plain": [
       "DecisionTreeClassifier(class_weight=None, criterion='gini', max_depth=None,\n",
       "            max_features=None, max_leaf_nodes=None,\n",
       "            min_impurity_decrease=0.0, min_impurity_split=None,\n",
       "            min_samples_leaf=1, min_samples_split=2,\n",
       "            min_weight_fraction_leaf=0.0, presort=False, random_state=2,\n",
       "            splitter='best')"
      ]
     },
     "execution_count": 135,
     "metadata": {},
     "output_type": "execute_result"
    }
   ],
   "source": [
    "my_Decisiontree.fit(X_train,y_train)"
   ]
  },
  {
   "cell_type": "code",
   "execution_count": 136,
   "metadata": {},
   "outputs": [
    {
     "name": "stdout",
     "output_type": "stream",
     "text": [
      "Decision Trer Predict : \n",
      " [0 1 1 1 1 1 1 1 0 0 1 1 1 1 1 1 0 1 0 1 0 0 0 0 0 1 0 0 0 1 0 1 1 0 1 0 0\n",
      " 1 1 0 1 1 0 1 1]\n"
     ]
    }
   ],
   "source": [
    "y_predict_dt= my_Decisiontree.predict(X_test)\n",
    "\n",
    "print(\"Decision Trer Predict : \\n\",y_predict_dt)"
   ]
  },
  {
   "cell_type": "code",
   "execution_count": 137,
   "metadata": {},
   "outputs": [
    {
     "name": "stdout",
     "output_type": "stream",
     "text": [
      "DecisionTree : 0.8666666666666667\n"
     ]
    }
   ],
   "source": [
    "accuracy_dt =accuracy_score(y_test,y_predict_dt)\n",
    "print(\"DecisionTree :\",accuracy_dt)"
   ]
  },
  {
   "cell_type": "code",
   "execution_count": 138,
   "metadata": {},
   "outputs": [],
   "source": [
    "#y_predict_DTC = accuracy_dt.predict(X_test)"
   ]
  },
  {
   "cell_type": "markdown",
   "metadata": {},
   "source": [
    "d- Now, we want to perform “Bagging” based on 29 “base decision tree classifiers”.\n",
    "Note: you should write your own code to perform Bagging (don’t use scikit-learn functions\n",
    "for Bagging!)\n",
    "\n",
    "To do so, you need to perform bootstrapping first. You can write a “for” loop with loop\n",
    "variable i=0…18. In each iteration of the loop, you have to:\n",
    "\n",
    "- make a bootstarp sample of the original “Training” Dataset (build in part(b)) with size\n",
    "of bootstarp_size = 0.8*(Size of the original dataset). You can use the following\n",
    "command to generate a random bootstrap dataset (“i\" is the variable of the loop, so\n",
    "the random_state changes in each iteration):\n",
    "resample(X_train, n_samples = bootstarp_size , random_state=i , replace = True)\n",
    "\n",
    "- Define and train a new base decision tree classifier on this dataset in each iteration:\n",
    "Base_DecisionTree = DecisionTreeClassifier(random_state=2).\n",
    "\n",
    "- Test “this base classifier” on the original “Testing” Dataset build in part(b), and save\n",
    "the prediction results for all testing samples.\n",
    "Then, Perform Voting to make the final decision on each data sample based on the votes\n",
    "of all 29 classifiers. Finally, calculate and report the accuracy and AUC of your Bagging\n",
    "method."
   ]
  },
  {
   "cell_type": "code",
   "execution_count": 139,
   "metadata": {},
   "outputs": [
    {
     "name": "stdout",
     "output_type": "stream",
     "text": [
      "105\n"
     ]
    }
   ],
   "source": [
    "X_train_size=len(X_train)\n",
    "print (X_train_size)\n"
   ]
  },
  {
   "cell_type": "code",
   "execution_count": 140,
   "metadata": {},
   "outputs": [
    {
     "data": {
      "text/html": [
       "<div>\n",
       "<style scoped>\n",
       "    .dataframe tbody tr th:only-of-type {\n",
       "        vertical-align: middle;\n",
       "    }\n",
       "\n",
       "    .dataframe tbody tr th {\n",
       "        vertical-align: top;\n",
       "    }\n",
       "\n",
       "    .dataframe thead th {\n",
       "        text-align: right;\n",
       "    }\n",
       "</style>\n",
       "<table border=\"1\" class=\"dataframe\">\n",
       "  <thead>\n",
       "    <tr style=\"text-align: right;\">\n",
       "      <th></th>\n",
       "      <th>(Predict, 0)</th>\n",
       "      <th>(Predict, 1)</th>\n",
       "      <th>(Predict, 2)</th>\n",
       "      <th>(Predict, 3)</th>\n",
       "      <th>(Predict, 4)</th>\n",
       "      <th>(Predict, 5)</th>\n",
       "      <th>(Predict, 6)</th>\n",
       "      <th>(Predict, 7)</th>\n",
       "      <th>(Predict, 8)</th>\n",
       "      <th>(Predict, 9)</th>\n",
       "      <th>(Predict, 10)</th>\n",
       "      <th>(Predict, 11)</th>\n",
       "      <th>(Predict, 12)</th>\n",
       "      <th>(Predict, 13)</th>\n",
       "      <th>(Predict, 14)</th>\n",
       "      <th>(Predict, 15)</th>\n",
       "      <th>(Predict, 16)</th>\n",
       "      <th>(Predict, 17)</th>\n",
       "      <th>(Predict, 18)</th>\n",
       "    </tr>\n",
       "  </thead>\n",
       "  <tbody>\n",
       "    <tr>\n",
       "      <th>0</th>\n",
       "      <td>0</td>\n",
       "      <td>0</td>\n",
       "      <td>0</td>\n",
       "      <td>0</td>\n",
       "      <td>0</td>\n",
       "      <td>0</td>\n",
       "      <td>0</td>\n",
       "      <td>0</td>\n",
       "      <td>0</td>\n",
       "      <td>0</td>\n",
       "      <td>0</td>\n",
       "      <td>1</td>\n",
       "      <td>0</td>\n",
       "      <td>0</td>\n",
       "      <td>0</td>\n",
       "      <td>0</td>\n",
       "      <td>0</td>\n",
       "      <td>0</td>\n",
       "      <td>0</td>\n",
       "    </tr>\n",
       "    <tr>\n",
       "      <th>1</th>\n",
       "      <td>1</td>\n",
       "      <td>1</td>\n",
       "      <td>1</td>\n",
       "      <td>1</td>\n",
       "      <td>1</td>\n",
       "      <td>1</td>\n",
       "      <td>1</td>\n",
       "      <td>1</td>\n",
       "      <td>1</td>\n",
       "      <td>1</td>\n",
       "      <td>1</td>\n",
       "      <td>1</td>\n",
       "      <td>1</td>\n",
       "      <td>1</td>\n",
       "      <td>1</td>\n",
       "      <td>1</td>\n",
       "      <td>1</td>\n",
       "      <td>1</td>\n",
       "      <td>1</td>\n",
       "    </tr>\n",
       "    <tr>\n",
       "      <th>2</th>\n",
       "      <td>1</td>\n",
       "      <td>1</td>\n",
       "      <td>1</td>\n",
       "      <td>1</td>\n",
       "      <td>1</td>\n",
       "      <td>1</td>\n",
       "      <td>1</td>\n",
       "      <td>1</td>\n",
       "      <td>1</td>\n",
       "      <td>1</td>\n",
       "      <td>1</td>\n",
       "      <td>1</td>\n",
       "      <td>1</td>\n",
       "      <td>1</td>\n",
       "      <td>1</td>\n",
       "      <td>1</td>\n",
       "      <td>1</td>\n",
       "      <td>1</td>\n",
       "      <td>1</td>\n",
       "    </tr>\n",
       "    <tr>\n",
       "      <th>3</th>\n",
       "      <td>1</td>\n",
       "      <td>1</td>\n",
       "      <td>1</td>\n",
       "      <td>1</td>\n",
       "      <td>0</td>\n",
       "      <td>0</td>\n",
       "      <td>1</td>\n",
       "      <td>1</td>\n",
       "      <td>1</td>\n",
       "      <td>0</td>\n",
       "      <td>1</td>\n",
       "      <td>1</td>\n",
       "      <td>1</td>\n",
       "      <td>1</td>\n",
       "      <td>1</td>\n",
       "      <td>1</td>\n",
       "      <td>1</td>\n",
       "      <td>1</td>\n",
       "      <td>0</td>\n",
       "    </tr>\n",
       "    <tr>\n",
       "      <th>4</th>\n",
       "      <td>1</td>\n",
       "      <td>1</td>\n",
       "      <td>1</td>\n",
       "      <td>1</td>\n",
       "      <td>0</td>\n",
       "      <td>0</td>\n",
       "      <td>1</td>\n",
       "      <td>0</td>\n",
       "      <td>1</td>\n",
       "      <td>0</td>\n",
       "      <td>1</td>\n",
       "      <td>1</td>\n",
       "      <td>1</td>\n",
       "      <td>1</td>\n",
       "      <td>1</td>\n",
       "      <td>1</td>\n",
       "      <td>1</td>\n",
       "      <td>1</td>\n",
       "      <td>0</td>\n",
       "    </tr>\n",
       "  </tbody>\n",
       "</table>\n",
       "</div>"
      ],
      "text/plain": [
       "   (Predict, 0)  (Predict, 1)  (Predict, 2)  (Predict, 3)  (Predict, 4)  \\\n",
       "0             0             0             0             0             0   \n",
       "1             1             1             1             1             1   \n",
       "2             1             1             1             1             1   \n",
       "3             1             1             1             1             0   \n",
       "4             1             1             1             1             0   \n",
       "\n",
       "   (Predict, 5)  (Predict, 6)  (Predict, 7)  (Predict, 8)  (Predict, 9)  \\\n",
       "0             0             0             0             0             0   \n",
       "1             1             1             1             1             1   \n",
       "2             1             1             1             1             1   \n",
       "3             0             1             1             1             0   \n",
       "4             0             1             0             1             0   \n",
       "\n",
       "   (Predict, 10)  (Predict, 11)  (Predict, 12)  (Predict, 13)  (Predict, 14)  \\\n",
       "0              0              1              0              0              0   \n",
       "1              1              1              1              1              1   \n",
       "2              1              1              1              1              1   \n",
       "3              1              1              1              1              1   \n",
       "4              1              1              1              1              1   \n",
       "\n",
       "   (Predict, 15)  (Predict, 16)  (Predict, 17)  (Predict, 18)  \n",
       "0              0              0              0              0  \n",
       "1              1              1              1              1  \n",
       "2              1              1              1              1  \n",
       "3              1              1              1              0  \n",
       "4              1              1              1              0  "
      ]
     },
     "execution_count": 140,
     "metadata": {},
     "output_type": "execute_result"
    }
   ],
   "source": [
    "from sklearn.utils import resample\n",
    "\n",
    "bootstrap_size = 84\n",
    "predict_matrix = pd.DataFrame()\n",
    "\n",
    "for i in range(19):\n",
    "    X_train_bag = resample(X_train, n_samples = bootstrap_size, random_state=i, replace=True)\n",
    "    y_train_bag = resample(y_train, n_samples = bootstrap_size, random_state=i, replace=True)\n",
    "    Base_DT = DecisionTreeClassifier(random_state=2)\n",
    "    Base_DT.fit(X_train_bag, y_train_bag)\n",
    "    bag_predict = Base_DT.predict(X_test)\n",
    "    series_predict = pd.Series(bag_predict)\n",
    "    predict_matrix['Predict',i ] = series_predict.values\n",
    "predict_matrix.head()"
   ]
  },
  {
   "cell_type": "code",
   "execution_count": 141,
   "metadata": {},
   "outputs": [
    {
     "data": {
      "text/plain": [
       "(45, 19)"
      ]
     },
     "execution_count": 141,
     "metadata": {},
     "output_type": "execute_result"
    }
   ],
   "source": [
    "predict_matrix.shape"
   ]
  },
  {
   "cell_type": "code",
   "execution_count": 142,
   "metadata": {},
   "outputs": [
    {
     "data": {
      "text/html": [
       "<div>\n",
       "<style scoped>\n",
       "    .dataframe tbody tr th:only-of-type {\n",
       "        vertical-align: middle;\n",
       "    }\n",
       "\n",
       "    .dataframe tbody tr th {\n",
       "        vertical-align: top;\n",
       "    }\n",
       "\n",
       "    .dataframe thead th {\n",
       "        text-align: right;\n",
       "    }\n",
       "</style>\n",
       "<table border=\"1\" class=\"dataframe\">\n",
       "  <thead>\n",
       "    <tr style=\"text-align: right;\">\n",
       "      <th></th>\n",
       "      <th>0</th>\n",
       "    </tr>\n",
       "  </thead>\n",
       "  <tbody>\n",
       "    <tr>\n",
       "      <th>0</th>\n",
       "      <td>0</td>\n",
       "    </tr>\n",
       "    <tr>\n",
       "      <th>1</th>\n",
       "      <td>1</td>\n",
       "    </tr>\n",
       "    <tr>\n",
       "      <th>2</th>\n",
       "      <td>1</td>\n",
       "    </tr>\n",
       "    <tr>\n",
       "      <th>3</th>\n",
       "      <td>1</td>\n",
       "    </tr>\n",
       "    <tr>\n",
       "      <th>4</th>\n",
       "      <td>1</td>\n",
       "    </tr>\n",
       "  </tbody>\n",
       "</table>\n",
       "</div>"
      ],
      "text/plain": [
       "   0\n",
       "0  0\n",
       "1  1\n",
       "2  1\n",
       "3  1\n",
       "4  1"
      ]
     },
     "execution_count": 142,
     "metadata": {},
     "output_type": "execute_result"
    }
   ],
   "source": [
    "predict_voting = predict_matrix.mode(axis=1)\n",
    "predict_voting.head()"
   ]
  },
  {
   "cell_type": "code",
   "execution_count": 143,
   "metadata": {},
   "outputs": [
    {
     "name": "stdout",
     "output_type": "stream",
     "text": [
      "Bagging Accuracy :  0.9111111111111111\n"
     ]
    }
   ],
   "source": [
    "score_bagging = accuracy_score(y_test,predict_voting)\n",
    "print('Bagging Accuracy : ',score_bagging)"
   ]
  },
  {
   "cell_type": "markdown",
   "metadata": {},
   "source": [
    "e- Use scikit-learn “Adaboost” classifier to predict Cancer based on the training/testing\n",
    "datasets that you built in part (b). Then, calculate and report the accuracy and AUC of\n",
    "your classifier. \n",
    "\n",
    "Use this command to import and define your classifier:\n",
    "from sklearn.ensemble import AdaBoostClassifier\n",
    "my_AdaBoost = AdaBoostClassifier(n_estimators = 29,random_state=2)"
   ]
  },
  {
   "cell_type": "code",
   "execution_count": 144,
   "metadata": {},
   "outputs": [],
   "source": [
    "from sklearn.ensemble import AdaBoostClassifier"
   ]
  },
  {
   "cell_type": "code",
   "execution_count": 145,
   "metadata": {},
   "outputs": [],
   "source": [
    "my_AdaBoost = AdaBoostClassifier(n_estimators = 29,random_state=2)\n",
    "my_AdaBoost.fit(X_train,y_train)\n",
    "predict_my_AdaBoost= my_AdaBoost.predict(X_test)"
   ]
  },
  {
   "cell_type": "code",
   "execution_count": 146,
   "metadata": {},
   "outputs": [
    {
     "name": "stdout",
     "output_type": "stream",
     "text": [
      "Predict My_AdaBoost : \n",
      " [0 1 1 1 1 1 1 1 0 0 1 1 1 1 1 1 0 0 0 1 0 0 0 0 1 1 0 0 0 1 0 1 1 0 1 1 1\n",
      " 1 1 0 1 1 0 1 1]\n"
     ]
    }
   ],
   "source": [
    "print(\"Predict My_AdaBoost : \\n\",predict_my_AdaBoost)"
   ]
  },
  {
   "cell_type": "code",
   "execution_count": 147,
   "metadata": {},
   "outputs": [
    {
     "name": "stdout",
     "output_type": "stream",
     "text": [
      "AdaBoost Accuracy : 0.9555555555555556\n"
     ]
    }
   ],
   "source": [
    "myAdaBoost_accuracy =accuracy_score(y_test,predict_my_AdaBoost)\n",
    "print(\"AdaBoost Accuracy :\",myAdaBoost_accuracy)"
   ]
  },
  {
   "cell_type": "markdown",
   "metadata": {},
   "source": [
    "f- In this section, we use an extremely popular Boosting algorithm called “XGBoost”. \n",
    "\n",
    "This\n",
    "algorithm is not included in sklearn, so you need to install the XGBoost library. \n",
    "\n",
    "Please see\n",
    "this for more infor: https://xgboost.readthedocs.io/en/latest/build.html\n",
    "Mac users can easily install it with “pip install xgboost”.\n",
    "\n",
    "Repeat part (e) with XGBoost. Use this command to import and define your classifier:\n",
    "\n",
    "from xgboost import XGBClassifier\n",
    "my_XGBoost = XGBClassifier(n_estimators = 29,random_state=2)"
   ]
  },
  {
   "cell_type": "code",
   "execution_count": 148,
   "metadata": {},
   "outputs": [],
   "source": [
    "import xgboost as xgb\n",
    "from xgboost import XGBClassifier"
   ]
  },
  {
   "cell_type": "code",
   "execution_count": 149,
   "metadata": {},
   "outputs": [],
   "source": [
    "my_XGBoost = XGBClassifier(n_estimators = 29,random_state=2)\n",
    "my_XGBoost.fit(X_train,y_train)\n",
    "predict_my_XGBoost = my_XGBoost.predict(X_test)"
   ]
  },
  {
   "cell_type": "code",
   "execution_count": 150,
   "metadata": {},
   "outputs": [
    {
     "name": "stdout",
     "output_type": "stream",
     "text": [
      "Predict My_XGBoost : \n",
      " [0 1 1 1 1 1 1 1 0 0 1 1 1 1 1 1 0 0 0 1 0 0 0 0 1 1 0 0 0 1 0 1 1 0 1 1 1\n",
      " 1 1 0 1 1 0 1 1]\n"
     ]
    }
   ],
   "source": [
    "print(\"Predict My_XGBoost : \\n\",predict_my_XGBoost)"
   ]
  },
  {
   "cell_type": "code",
   "execution_count": 151,
   "metadata": {},
   "outputs": [
    {
     "name": "stdout",
     "output_type": "stream",
     "text": [
      "XGBoost Accuracy :  0.9555555555555556\n"
     ]
    }
   ],
   "source": [
    "myXGBoost_accuracy = accuracy_score(y_test,predict_my_XGBoost)\n",
    "print(\"XGBoost Accuracy : \",myXGBoost_accuracy )"
   ]
  },
  {
   "cell_type": "markdown",
   "metadata": {},
   "source": [
    "g- Use scikit-learn “Random Forest” classifier to predict Cancer based on the training/testing\n",
    "datasets that you built in part (b). \n",
    "\n",
    "Then, calculate and report the accuracy and AUC of\n",
    "your classifier. Use this command to import and define your classifier:\n",
    "\n",
    "from sklearn.ensemble import RandomForestClassifier\n",
    "my_RandomForest =\n",
    "RandomForestClassifier(n_estimators = 29, bootstrap = True, random_state=2)"
   ]
  },
  {
   "cell_type": "code",
   "execution_count": 152,
   "metadata": {},
   "outputs": [],
   "source": [
    "from sklearn.ensemble import RandomForestClassifier"
   ]
  },
  {
   "cell_type": "code",
   "execution_count": 153,
   "metadata": {},
   "outputs": [],
   "source": [
    "my_RandomForest = RandomForestClassifier(n_estimators = 29, bootstrap = True, random_state=2)\n",
    "my_RandomForest.fit(X_train,y_train)\n",
    "predict_my_RandomForest= my_RandomForest.predict(X_test)"
   ]
  },
  {
   "cell_type": "code",
   "execution_count": 154,
   "metadata": {},
   "outputs": [
    {
     "name": "stdout",
     "output_type": "stream",
     "text": [
      "Predict My_RandomForest : \n",
      " [0 1 1 1 1 1 1 1 0 1 1 1 1 1 1 1 0 1 0 1 0 0 0 0 1 1 0 0 0 1 0 1 1 0 1 1 1\n",
      " 1 1 0 1 1 0 1 1]\n"
     ]
    }
   ],
   "source": [
    "print(\"Predict My_RandomForest : \\n\",predict_my_RandomForest)"
   ]
  },
  {
   "cell_type": "code",
   "execution_count": 155,
   "metadata": {},
   "outputs": [
    {
     "name": "stdout",
     "output_type": "stream",
     "text": [
      "Random Forest Accuracy: 0.9555555555555556\n"
     ]
    }
   ],
   "source": [
    "my_RandomForest_accuracy =accuracy_score(y_test,predict_my_RandomForest)\n",
    "print(\"Random Forest Accuracy:\",my_RandomForest_accuracy)\n"
   ]
  },
  {
   "cell_type": "markdown",
   "metadata": {},
   "source": [
    "h- Now, plot the ROC curves of your algorithms in parts (c), (d), (e), (f), (g) in a single plane\n",
    "with different colors along with the name of each method. Show the AUCs on the graph\n",
    "as well.\n",
    "\n",
    "- Which algorithm is the best w.r.t the AUC value?\n",
    "- Which algorithm is the best w.r.t the Accuracy value?\n",
    "- Which algorithm is the best when we want a False Positive Rate of %7?"
   ]
  },
  {
   "cell_type": "code",
   "execution_count": 156,
   "metadata": {},
   "outputs": [
    {
     "name": "stdout",
     "output_type": "stream",
     "text": [
      "Decision Tree Predict : \n",
      " [0 1 1 1 1 1 1 1 0 0 1 1 1 1 1 1 0 1 0 1 0 0 0 0 0 1 0 0 0 1 0 1 1 0 1 0 0\n",
      " 1 1 0 1 1 0 1 1]\n"
     ]
    }
   ],
   "source": [
    "# (c)\n",
    "y_predict_dt= my_Decisiontree.predict(X_test)\n",
    "print(\"Decision Tree Predict : \\n\",y_predict_dt)"
   ]
  },
  {
   "cell_type": "code",
   "execution_count": 157,
   "metadata": {},
   "outputs": [
    {
     "name": "stdout",
     "output_type": "stream",
     "text": [
      "Bagging Predict : \n",
      " [0 1 1 0 0 1 1 1 0 0 1 1 1 1 1 1 0 0 0 1 0 0 0 1 0 1 0 0 0 1 0 1 1 0 1 1 0\n",
      " 1 1 0 1 1 0 1 1]\n"
     ]
    }
   ],
   "source": [
    "# (D) \n",
    "bag_predict = Base_DT.predict(X_test)\n",
    "print(\"Bagging Predict : \\n\",bag_predict)"
   ]
  },
  {
   "cell_type": "code",
   "execution_count": 158,
   "metadata": {},
   "outputs": [
    {
     "name": "stdout",
     "output_type": "stream",
     "text": [
      "AdaBoost Predict : \n",
      " [0 1 1 1 1 1 1 1 0 0 1 1 1 1 1 1 0 0 0 1 0 0 0 0 1 1 0 0 0 1 0 1 1 0 1 1 1\n",
      " 1 1 0 1 1 0 1 1]\n"
     ]
    }
   ],
   "source": [
    "# (E)\n",
    "\n",
    "predict_my_AdaBoost= my_AdaBoost.predict(X_test)\n",
    "print(\"AdaBoost Predict : \\n\",predict_my_AdaBoost)"
   ]
  },
  {
   "cell_type": "code",
   "execution_count": 159,
   "metadata": {},
   "outputs": [
    {
     "name": "stdout",
     "output_type": "stream",
     "text": [
      "XGBoost Predict : \n",
      " [0 1 1 1 1 1 1 1 0 0 1 1 1 1 1 1 0 0 0 1 0 0 0 0 1 1 0 0 0 1 0 1 1 0 1 1 1\n",
      " 1 1 0 1 1 0 1 1]\n"
     ]
    }
   ],
   "source": [
    "# (f)\n",
    "predict_my_XGBoost = my_XGBoost.predict(X_test)\n",
    "print(\"XGBoost Predict : \\n\",predict_my_XGBoost)"
   ]
  },
  {
   "cell_type": "code",
   "execution_count": 160,
   "metadata": {},
   "outputs": [
    {
     "name": "stdout",
     "output_type": "stream",
     "text": [
      "Predict My_RandomForest :  [0 1 1 1 1 1 1 1 0 1 1 1 1 1 1 1 0 1 0 1 0 0 0 0 1 1 0 0 0 1 0 1 1 0 1 1 1\n",
      " 1 1 0 1 1 0 1 1]\n"
     ]
    }
   ],
   "source": [
    "# (G)\n",
    "predict_my_RandomForest= my_RandomForest.predict(X_test)\n",
    "print(\"Predict My_RandomForest : \",predict_my_RandomForest)"
   ]
  },
  {
   "cell_type": "code",
   "execution_count": 161,
   "metadata": {},
   "outputs": [
    {
     "name": "stdout",
     "output_type": "stream",
     "text": [
      "Decision Tree Prediction Probability :  [[1. 0.]\n",
      " [0. 1.]\n",
      " [0. 1.]\n",
      " [0. 1.]\n",
      " [0. 1.]\n",
      " [0. 1.]\n",
      " [0. 1.]\n",
      " [0. 1.]\n",
      " [1. 0.]\n",
      " [1. 0.]\n",
      " [0. 1.]\n",
      " [0. 1.]\n",
      " [0. 1.]\n",
      " [0. 1.]\n",
      " [0. 1.]\n",
      " [0. 1.]\n",
      " [1. 0.]\n",
      " [0. 1.]\n",
      " [1. 0.]\n",
      " [0. 1.]\n",
      " [1. 0.]\n",
      " [1. 0.]\n",
      " [1. 0.]\n",
      " [1. 0.]\n",
      " [1. 0.]\n",
      " [0. 1.]\n",
      " [1. 0.]\n",
      " [1. 0.]\n",
      " [1. 0.]\n",
      " [0. 1.]\n",
      " [1. 0.]\n",
      " [0. 1.]\n",
      " [0. 1.]\n",
      " [1. 0.]\n",
      " [0. 1.]\n",
      " [1. 0.]\n",
      " [1. 0.]\n",
      " [0. 1.]\n",
      " [0. 1.]\n",
      " [1. 0.]\n",
      " [0. 1.]\n",
      " [0. 1.]\n",
      " [1. 0.]\n",
      " [0. 1.]\n",
      " [0. 1.]]\n"
     ]
    }
   ],
   "source": [
    "predict_proba_dt = my_Decisiontree.predict_proba(X_test)\n",
    "print(\"Decision Tree Prediction Probability : \",predict_proba_dt)"
   ]
  },
  {
   "cell_type": "code",
   "execution_count": 162,
   "metadata": {},
   "outputs": [
    {
     "name": "stdout",
     "output_type": "stream",
     "text": [
      "Bagging Prediction Probability :  [[1. 0.]\n",
      " [0. 1.]\n",
      " [0. 1.]\n",
      " [1. 0.]\n",
      " [1. 0.]\n",
      " [0. 1.]\n",
      " [0. 1.]\n",
      " [0. 1.]\n",
      " [1. 0.]\n",
      " [1. 0.]\n",
      " [0. 1.]\n",
      " [0. 1.]\n",
      " [0. 1.]\n",
      " [0. 1.]\n",
      " [0. 1.]\n",
      " [0. 1.]\n",
      " [1. 0.]\n",
      " [1. 0.]\n",
      " [1. 0.]\n",
      " [0. 1.]\n",
      " [1. 0.]\n",
      " [1. 0.]\n",
      " [1. 0.]\n",
      " [0. 1.]\n",
      " [1. 0.]\n",
      " [0. 1.]\n",
      " [1. 0.]\n",
      " [1. 0.]\n",
      " [1. 0.]\n",
      " [0. 1.]\n",
      " [1. 0.]\n",
      " [0. 1.]\n",
      " [0. 1.]\n",
      " [1. 0.]\n",
      " [0. 1.]\n",
      " [0. 1.]\n",
      " [1. 0.]\n",
      " [0. 1.]\n",
      " [0. 1.]\n",
      " [1. 0.]\n",
      " [0. 1.]\n",
      " [0. 1.]\n",
      " [1. 0.]\n",
      " [0. 1.]\n",
      " [0. 1.]]\n"
     ]
    }
   ],
   "source": [
    "predict_proba_bagging = Base_DT.predict_proba(X_test)\n",
    "print(\"Bagging Prediction Probability : \",predict_proba_bagging)"
   ]
  },
  {
   "cell_type": "code",
   "execution_count": 163,
   "metadata": {},
   "outputs": [
    {
     "name": "stdout",
     "output_type": "stream",
     "text": [
      "AdaBoost Prediction Probability :  [[0.7635804  0.2364196 ]\n",
      " [0.0402279  0.9597721 ]\n",
      " [0.0267179  0.9732821 ]\n",
      " [0.14848565 0.85151435]\n",
      " [0.0862194  0.9137806 ]\n",
      " [0.0267179  0.9732821 ]\n",
      " [0.05309098 0.94690902]\n",
      " [0.18224427 0.81775573]\n",
      " [0.85183    0.14817   ]\n",
      " [0.63459123 0.36540877]\n",
      " [0.11292848 0.88707152]\n",
      " [0.02333145 0.97666855]\n",
      " [0.03047266 0.96952734]\n",
      " [0.0267179  0.9732821 ]\n",
      " [0.43298912 0.56701088]\n",
      " [0.20090783 0.79909217]\n",
      " [0.80678154 0.19321846]\n",
      " [0.55727195 0.44272805]\n",
      " [0.86676559 0.13323441]\n",
      " [0.12841716 0.87158284]\n",
      " [0.85183    0.14817   ]\n",
      " [0.86676559 0.13323441]\n",
      " [0.86676559 0.13323441]\n",
      " [0.7635804  0.2364196 ]\n",
      " [0.03012802 0.96987198]\n",
      " [0.0402279  0.9597721 ]\n",
      " [0.80678154 0.19321846]\n",
      " [0.86676559 0.13323441]\n",
      " [0.86676559 0.13323441]\n",
      " [0.33649008 0.66350992]\n",
      " [0.86676559 0.13323441]\n",
      " [0.02333145 0.97666855]\n",
      " [0.03012802 0.96987198]\n",
      " [0.86676559 0.13323441]\n",
      " [0.05239671 0.94760329]\n",
      " [0.39183394 0.60816606]\n",
      " [0.03012802 0.96987198]\n",
      " [0.14308017 0.85691983]\n",
      " [0.09048137 0.90951863]\n",
      " [0.86676559 0.13323441]\n",
      " [0.02708164 0.97291836]\n",
      " [0.0338872  0.9661128 ]\n",
      " [0.85183    0.14817   ]\n",
      " [0.04534511 0.95465489]\n",
      " [0.02016997 0.97983003]]\n"
     ]
    }
   ],
   "source": [
    "predict_proba_AdaBoost = my_AdaBoost.predict_proba(X_test)\n",
    "print(\"AdaBoost Prediction Probability : \",predict_proba_AdaBoost)"
   ]
  },
  {
   "cell_type": "code",
   "execution_count": 164,
   "metadata": {},
   "outputs": [
    {
     "name": "stdout",
     "output_type": "stream",
     "text": [
      "XGBoost Prediction Probability :  [[0.9321619  0.06783809]\n",
      " [0.05739409 0.9426059 ]\n",
      " [0.05596173 0.9440383 ]\n",
      " [0.12769341 0.8723066 ]\n",
      " [0.13352221 0.8664778 ]\n",
      " [0.04259121 0.9574088 ]\n",
      " [0.07937235 0.92062765]\n",
      " [0.09762859 0.9023714 ]\n",
      " [0.95094395 0.04905603]\n",
      " [0.6099427  0.39005733]\n",
      " [0.06982094 0.93017906]\n",
      " [0.05596173 0.9440383 ]\n",
      " [0.05739409 0.9426059 ]\n",
      " [0.04259121 0.9574088 ]\n",
      " [0.41394717 0.58605283]\n",
      " [0.2626993  0.7373007 ]\n",
      " [0.9519698  0.04803019]\n",
      " [0.52636755 0.47363243]\n",
      " [0.9579867  0.04201331]\n",
      " [0.09224886 0.90775114]\n",
      " [0.95094395 0.04905603]\n",
      " [0.9579867  0.04201331]\n",
      " [0.9579867  0.04201331]\n",
      " [0.75428027 0.24571973]\n",
      " [0.07887977 0.9211202 ]\n",
      " [0.05739409 0.9426059 ]\n",
      " [0.9519698  0.04803019]\n",
      " [0.9579867  0.04201331]\n",
      " [0.9579867  0.04201331]\n",
      " [0.40746325 0.59253675]\n",
      " [0.9579867  0.04201331]\n",
      " [0.04259121 0.9574088 ]\n",
      " [0.04259121 0.9574088 ]\n",
      " [0.9579867  0.04201331]\n",
      " [0.07937235 0.92062765]\n",
      " [0.3994943  0.6005057 ]\n",
      " [0.07887977 0.9211202 ]\n",
      " [0.25754333 0.7424567 ]\n",
      " [0.06810093 0.9318991 ]\n",
      " [0.9579867  0.04201331]\n",
      " [0.05596173 0.9440383 ]\n",
      " [0.05303425 0.94696575]\n",
      " [0.95094395 0.04905603]\n",
      " [0.04641026 0.95358974]\n",
      " [0.04259121 0.9574088 ]]\n"
     ]
    }
   ],
   "source": [
    "predict_proba_XGBoost = my_XGBoost.predict_proba(X_test)\n",
    "print(\"XGBoost Prediction Probability : \",predict_proba_XGBoost)"
   ]
  },
  {
   "cell_type": "code",
   "execution_count": 165,
   "metadata": {},
   "outputs": [
    {
     "name": "stdout",
     "output_type": "stream",
     "text": [
      "Predict Probabibility My_RandomForest : \n",
      " [[0.86206897 0.13793103]\n",
      " [0.         1.        ]\n",
      " [0.03448276 0.96551724]\n",
      " [0.20689655 0.79310345]\n",
      " [0.17241379 0.82758621]\n",
      " [0.         1.        ]\n",
      " [0.03448276 0.96551724]\n",
      " [0.         1.        ]\n",
      " [1.         0.        ]\n",
      " [0.31034483 0.68965517]\n",
      " [0.03448276 0.96551724]\n",
      " [0.         1.        ]\n",
      " [0.         1.        ]\n",
      " [0.         1.        ]\n",
      " [0.27586207 0.72413793]\n",
      " [0.13793103 0.86206897]\n",
      " [1.         0.        ]\n",
      " [0.34482759 0.65517241]\n",
      " [1.         0.        ]\n",
      " [0.13793103 0.86206897]\n",
      " [1.         0.        ]\n",
      " [1.         0.        ]\n",
      " [1.         0.        ]\n",
      " [0.62068966 0.37931034]\n",
      " [0.27586207 0.72413793]\n",
      " [0.03448276 0.96551724]\n",
      " [1.         0.        ]\n",
      " [1.         0.        ]\n",
      " [1.         0.        ]\n",
      " [0.31034483 0.68965517]\n",
      " [1.         0.        ]\n",
      " [0.         1.        ]\n",
      " [0.         1.        ]\n",
      " [1.         0.        ]\n",
      " [0.         1.        ]\n",
      " [0.20689655 0.79310345]\n",
      " [0.27586207 0.72413793]\n",
      " [0.20689655 0.79310345]\n",
      " [0.03448276 0.96551724]\n",
      " [1.         0.        ]\n",
      " [0.03448276 0.96551724]\n",
      " [0.         1.        ]\n",
      " [0.96551724 0.03448276]\n",
      " [0.03448276 0.96551724]\n",
      " [0.         1.        ]]\n"
     ]
    }
   ],
   "source": [
    "predict_proba_RandomForest = my_RandomForest.predict_proba(X_test)\n",
    "print(\"Predict Probabibility My_RandomForest : \\n\",predict_proba_RandomForest)"
   ]
  },
  {
   "cell_type": "code",
   "execution_count": 166,
   "metadata": {},
   "outputs": [
    {
     "name": "stdout",
     "output_type": "stream",
     "text": [
      "Fpr Decision Tree : \n",
      " [0.         0.11764706 1.        ]\n",
      "tpr Decision Tree: \n",
      " [0.         0.85714286 1.        ]\n",
      "Fpr Bagging : \n",
      " [0.         0.11764706 1.        ]\n",
      "tpr Bagging : \n",
      " [0.         0.82142857 1.        ]\n",
      "Fpr AdaBoost : \n",
      " [0.         0.         0.         0.         0.         0.\n",
      " 0.         0.05882353 0.05882353 0.11764706 0.11764706 0.35294118\n",
      " 0.52941176 1.        ]\n",
      "tpr AdaBoost : \n",
      " [0.         0.03571429 0.10714286 0.21428571 0.25       0.35714286\n",
      " 0.42857143 0.46428571 0.96428571 0.96428571 1.         1.\n",
      " 1.         1.        ]\n",
      "Fpr XGBoost : \n",
      " [0.         0.         0.         0.         0.05882353 0.05882353\n",
      " 0.05882353 0.05882353 0.11764706 0.11764706 0.23529412 0.41176471\n",
      " 0.52941176 1.        ]\n",
      "tpr XGBoost : \n",
      " [0.         0.17857143 0.25       0.35714286 0.42857143 0.5\n",
      " 0.64285714 0.96428571 0.96428571 1.         1.         1.\n",
      " 1.         1.        ]\n",
      "Fpr : \n",
      " [0.         0.05882353 0.05882353 0.05882353 0.05882353 0.05882353\n",
      " 0.05882353 0.29411765 1.        ]\n",
      "tpr : \n",
      " [0.         0.35714286 0.60714286 0.67857143 0.71428571 0.92857143\n",
      " 1.         1.         1.        ]\n"
     ]
    }
   ],
   "source": [
    "fprdt,tprdt,thresholds = metrics.roc_curve(y_test, predict_proba_dt[:,1], pos_label=1)\n",
    "print(\"Fpr Decision Tree : \\n\",fprdt)\n",
    "print(\"tpr Decision Tree: \\n\",tprdt)\n",
    "\n",
    "\n",
    "fprbag,tprbag,thresholds = metrics.roc_curve(y_test, predict_proba_bagging[:,1], pos_label=1)\n",
    "print(\"Fpr Bagging : \\n\",fprbag)\n",
    "print(\"tpr Bagging : \\n\",tprbag)\n",
    "\n",
    "\n",
    "fprada,tprada,thresholds = metrics.roc_curve(y_test, predict_proba_AdaBoost[:,1], pos_label=1)\n",
    "print(\"Fpr AdaBoost : \\n\",fprada)\n",
    "print(\"tpr AdaBoost : \\n\",tprada)\n",
    "\n",
    "fprxg,tprxg,thresholds = metrics.roc_curve(y_test, predict_proba_XGBoost[:,1], pos_label=1)\n",
    "print(\"Fpr XGBoost : \\n\",fprxg)\n",
    "print(\"tpr XGBoost : \\n\",tprxg)\n",
    "\n",
    "fprrf,tprrf,thresholds = metrics.roc_curve(y_test, predict_proba_RandomForest[:,1], pos_label=1)\n",
    "print(\"Fpr : \\n\",fprrf)\n",
    "print(\"tpr : \\n\",tprrf)\n"
   ]
  },
  {
   "cell_type": "code",
   "execution_count": 167,
   "metadata": {},
   "outputs": [
    {
     "name": "stdout",
     "output_type": "stream",
     "text": [
      "Desicion Tree AUC :  0.8697478991596639\n",
      "\n",
      " Bagging AUC :  0.8518907563025209\n",
      "\n",
      " AdaBoost AUC :  0.9653361344537815\n",
      "\n",
      " XGBoost AUC :  0.9621848739495799\n",
      "\n",
      " Random Forest AUC :  0.9516806722689075\n"
     ]
    }
   ],
   "source": [
    "AUCDT = metrics.auc(fprdt,tprdt)\n",
    "print(\"Desicion Tree AUC : \",AUCDT)\n",
    "\n",
    "AUCBagging = metrics.auc(fprbag,tprbag)\n",
    "print(\"\\n Bagging AUC : \",AUCBagging)\n",
    "\n",
    "AUCAdaBoost = metrics.auc(fprada,tprada)\n",
    "print(\"\\n AdaBoost AUC : \",AUCAdaBoost)\n",
    "\n",
    "AUCXG = metrics.auc(fprxg,tprxg)\n",
    "print(\"\\n XGBoost AUC : \",AUCXG)\n",
    "\n",
    "AUCRF = metrics.auc(fprrf,tprrf)\n",
    "print(\"\\n Random Forest AUC : \",AUCRF)"
   ]
  },
  {
   "cell_type": "code",
   "execution_count": 168,
   "metadata": {},
   "outputs": [
    {
     "name": "stdout",
     "output_type": "stream",
     "text": [
      "************  *******************\n"
     ]
    },
    {
     "data": {
      "image/png": "[encoded data removed]",
      "text/plain": [
       "<Figure size 432x288 with 1 Axes>"
      ]
     },
     "metadata": {
      "needs_background": "light"
     },
     "output_type": "display_data"
    }
   ],
   "source": [
    "print(\"************  *******************\")\n",
    "\n",
    "\n",
    "%matplotlib inline\n",
    "\n",
    "plt.figure()\n",
    "\n",
    "plt.plot(fprdt, tprdt, color='blue', lw=2, \n",
    "         label='ROC Curve DT (area = %0.7f)' % AUCDT)\n",
    "\n",
    "plt.plot(fprbag, tprbag, color='orange', lw=2, \n",
    "         label='ROC Curve BAG (area = %0.7f)' % AUCBagging)\n",
    "\n",
    "plt.plot(fprada, tprada, color='red', lw=2, \n",
    "         label='ROC Curve ADA (area = %0.7f)' % AUCAdaBoost)\n",
    "\n",
    "plt.plot(fprxg, tprxg, color='green', lw=2, \n",
    "         label='ROC Curve XG (area = %0.7f)' % AUCXG)\n",
    "\n",
    "plt.plot(fprrf, tprrf, color='pink', lw=2, \n",
    "         label='ROC Curve RF (area = %0.7f)' % AUCRF)\n",
    "\n",
    "plt.plot([0, 1], [0, 1], color='blue', lw=1, linestyle='--')\n",
    "\n",
    "plt.xlim([-0.005, 1.005])\n",
    "plt.ylim([0.0, 1.01])\n",
    "\n",
    "plt.xlabel('False Positive Rate')\n",
    "plt.ylabel('True Positive Rate')\n",
    "plt.title('Receiver operating characteristic')\n",
    "plt.legend(loc=\"lower right\")\n",
    "\n",
    "plt.show()"
   ]
  },
  {
   "cell_type": "markdown",
   "metadata": {},
   "source": [
    "#### Which algorithm is the best w.r.t the AUC value?\n",
    "\n",
    "- AdaBoost Algorithm for AUC = 0.9653361\n"
   ]
  },
  {
   "cell_type": "markdown",
   "metadata": {},
   "source": [
    "#### Which algorithm is the best w.r.t the Accuracy value?\n",
    "\n",
    "- AdaBoost Algorithm for accuracy = 0.95555555557\n",
    "\n",
    "- XGBoost Algorithm for accuracy = 0.9555555557\n",
    "\n",
    "- Random Forest Algorithm for accuracy = 0.9555555557\n",
    "\n"
   ]
  },
  {
   "cell_type": "markdown",
   "metadata": {},
   "source": [
    "#### Which algorithm is the best when we want a False Positive Rate of %7?\n",
    "- Random Forest"
   ]
  },
  {
   "cell_type": "code",
   "execution_count": null,
   "metadata": {},
   "outputs": [],
   "source": []
  }
 ],
 "metadata": {
  "kernelspec": {
   "display_name": "Python 3",
   "language": "python",
   "name": "python3"
  },
  "language_info": {
   "codemirror_mode": {
    "name": "ipython",
    "version": 3
   },
   "file_extension": ".py",
   "mimetype": "text/x-python",
   "name": "python",
   "nbconvert_exporter": "python",
   "pygments_lexer": "ipython3",
   "version": "3.7.0"
  }
 },
 "nbformat": 4,
 "nbformat_minor": 2
}
